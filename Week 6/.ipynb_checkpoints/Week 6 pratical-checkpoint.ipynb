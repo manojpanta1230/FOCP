{
 "cells": [
  {
   "cell_type": "code",
   "execution_count": 9,
   "id": "497af3fd",
   "metadata": {},
   "outputs": [
    {
     "data": {
      "text/plain": [
       "[1, 4, 9, 16, 25, 36, 49, 64, 81]"
      ]
     },
     "execution_count": 9,
     "metadata": {},
     "output_type": "execute_result"
    }
   ],
   "source": [
    "my_list=[1,4,9,16,25,36]\n",
    "my_list.append(49)\n",
    "my_list.append(64)\n",
    "my_list.append(81)\n",
    "my_list"
   ]
  },
  {
   "cell_type": "code",
   "execution_count": 10,
   "id": "3d258f50",
   "metadata": {},
   "outputs": [],
   "source": [
    "my_list.extend([49,64,81])"
   ]
  },
  {
   "cell_type": "code",
   "execution_count": 11,
   "id": "d178ff96",
   "metadata": {},
   "outputs": [
    {
     "data": {
      "text/plain": [
       "[1, 4, 9, 16, 25, 36, 49, 64, 81, 49, 64, 81]"
      ]
     },
     "execution_count": 11,
     "metadata": {},
     "output_type": "execute_result"
    }
   ],
   "source": [
    "my_list"
   ]
  },
  {
   "cell_type": "code",
   "execution_count": 12,
   "id": "bbbdfeb4",
   "metadata": {},
   "outputs": [],
   "source": [
    "my_list.extend([121,144,169])"
   ]
  },
  {
   "cell_type": "code",
   "execution_count": 14,
   "id": "b4023ca1",
   "metadata": {},
   "outputs": [
    {
     "data": {
      "text/plain": [
       "[1, 4, 9, 16, 25, 36, 49, 64, 81, 49, 64, 81, 121, 144, 169]"
      ]
     },
     "execution_count": 14,
     "metadata": {},
     "output_type": "execute_result"
    }
   ],
   "source": [
    "my_list\n"
   ]
  },
  {
   "cell_type": "code",
   "execution_count": 16,
   "id": "794412d6",
   "metadata": {},
   "outputs": [
    {
     "data": {
      "text/plain": [
       "[2, 1, 4, 9, 16, 25, 36, 49, 64, 81, 49, 64, 81, 121, 144, 169]"
      ]
     },
     "execution_count": 16,
     "metadata": {},
     "output_type": "execute_result"
    }
   ],
   "source": [
    "my_list.insert(0,2)\n",
    "my_list"
   ]
  },
  {
   "cell_type": "code",
   "execution_count": 18,
   "id": "86d7d392",
   "metadata": {},
   "outputs": [
    {
     "data": {
      "text/plain": [
       "[2, 1, 4, 9, 16, 25, 36, 64, 81, 64, 81, 121, 144, 169]"
      ]
     },
     "execution_count": 18,
     "metadata": {},
     "output_type": "execute_result"
    }
   ],
   "source": [
    "my_list.remove(49)\n",
    "my_list"
   ]
  },
  {
   "cell_type": "code",
   "execution_count": 19,
   "id": "b0f8d69c",
   "metadata": {},
   "outputs": [
    {
     "ename": "ValueError",
     "evalue": "list.remove(x): x not in list",
     "output_type": "error",
     "traceback": [
      "\u001b[1;31m---------------------------------------------------------------------------\u001b[0m",
      "\u001b[1;31mValueError\u001b[0m                                Traceback (most recent call last)",
      "\u001b[1;32m~\\AppData\\Local\\Temp/ipykernel_9436/2487252675.py\u001b[0m in \u001b[0;36m<module>\u001b[1;34m\u001b[0m\n\u001b[1;32m----> 1\u001b[1;33m \u001b[0mmy_list\u001b[0m\u001b[1;33m.\u001b[0m\u001b[0mremove\u001b[0m\u001b[1;33m(\u001b[0m\u001b[1;36m3\u001b[0m\u001b[1;33m)\u001b[0m\u001b[1;33m\u001b[0m\u001b[1;33m\u001b[0m\u001b[0m\n\u001b[0m",
      "\u001b[1;31mValueError\u001b[0m: list.remove(x): x not in list"
     ]
    }
   ],
   "source": [
    "my_list.remove(3)"
   ]
  },
  {
   "cell_type": "code",
   "execution_count": 20,
   "id": "e180d99a",
   "metadata": {},
   "outputs": [],
   "source": [
    "my_list1=[1,2,3,1,2]\n",
    "my_list1.remove(2)"
   ]
  },
  {
   "cell_type": "code",
   "execution_count": 21,
   "id": "b002155c",
   "metadata": {},
   "outputs": [
    {
     "data": {
      "text/plain": [
       "[1, 3, 1, 2]"
      ]
     },
     "execution_count": 21,
     "metadata": {},
     "output_type": "execute_result"
    }
   ],
   "source": [
    "my_list1"
   ]
  },
  {
   "cell_type": "markdown",
   "id": "ac5421fb",
   "metadata": {},
   "source": [
    "first Value of 2 is removed."
   ]
  },
  {
   "cell_type": "code",
   "execution_count": 23,
   "id": "fc07ac4b",
   "metadata": {},
   "outputs": [
    {
     "data": {
      "text/plain": [
       "[2, 3, 4, 5, 6, 87]"
      ]
     },
     "execution_count": 23,
     "metadata": {},
     "output_type": "execute_result"
    }
   ],
   "source": [
    "my_list=[2,3,4,5,6,87,88]\n",
    "my_list.pop()\n",
    "my_list\n"
   ]
  },
  {
   "cell_type": "code",
   "execution_count": 25,
   "id": "f5944c4b",
   "metadata": {},
   "outputs": [
    {
     "data": {
      "text/plain": [
       "2"
      ]
     },
     "execution_count": 25,
     "metadata": {},
     "output_type": "execute_result"
    }
   ],
   "source": [
    "my_list.pop(0)"
   ]
  },
  {
   "cell_type": "code",
   "execution_count": 27,
   "id": "87e264c8",
   "metadata": {},
   "outputs": [],
   "source": [
    "names = [ \"Eric\", \"anna\", \"Sophie\", \"sam\" ]\n",
    "names.sort()"
   ]
  },
  {
   "cell_type": "markdown",
   "id": "b71f56c2",
   "metadata": {},
   "source": []
  },
  {
   "cell_type": "code",
   "execution_count": null,
   "id": "fb8c6220",
   "metadata": {},
   "outputs": [],
   "source": []
  }
 ],
 "metadata": {
  "kernelspec": {
   "display_name": "Python 3 (ipykernel)",
   "language": "python",
   "name": "python3"
  },
  "language_info": {
   "codemirror_mode": {
    "name": "ipython",
    "version": 3
   },
   "file_extension": ".py",
   "mimetype": "text/x-python",
   "name": "python",
   "nbconvert_exporter": "python",
   "pygments_lexer": "ipython3",
   "version": "3.9.7"
  }
 },
 "nbformat": 4,
 "nbformat_minor": 5
}
