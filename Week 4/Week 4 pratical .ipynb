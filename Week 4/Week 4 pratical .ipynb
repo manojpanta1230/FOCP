{
 "cells": [
  {
   "cell_type": "code",
   "execution_count": 2,
   "id": "bc4795a0",
   "metadata": {},
   "outputs": [
    {
     "name": "stdout",
     "output_type": "stream",
     "text": [
      "The square root of no is 32.0\n"
     ]
    }
   ],
   "source": [
    "import math\n",
    "print(\"The square root of no is\",math.sqrt(1024))"
   ]
  },
  {
   "cell_type": "code",
   "execution_count": 7,
   "id": "a6d76183",
   "metadata": {},
   "outputs": [
    {
     "data": {
      "text/plain": [
       "10.0"
      ]
     },
     "execution_count": 7,
     "metadata": {},
     "output_type": "execute_result"
    }
   ],
   "source": [
    "from math import log2\n",
    "log2(1024)"
   ]
  },
  {
   "cell_type": "code",
   "execution_count": 13,
   "id": "3cf9bf16",
   "metadata": {},
   "outputs": [
    {
     "name": "stdout",
     "output_type": "stream",
     "text": [
      "manoj\n",
      "manoj\n",
      "2\n",
      "2\n",
      "4\n",
      "4\n",
      "manojsomeone\n",
      "manojsomeone\n"
     ]
    }
   ],
   "source": [
    "def displayTwice(msg):\n",
    "    print(msg)\n",
    "    print(msg)\n",
    "displayTwice(\"manoj\")\n",
    "displayTwice(2)\n",
    "displayTwice(2+2)\n",
    "displayTwice(\"manoj\"+\"someone\")"
   ]
  },
  {
   "cell_type": "code",
   "execution_count": 15,
   "id": "2c84a986",
   "metadata": {},
   "outputs": [
    {
     "name": "stdout",
     "output_type": "stream",
     "text": [
      "manoj\n",
      "manoj\n",
      "2\n",
      "2\n",
      "4\n",
      "4\n",
      "manojsomeone\n",
      "manojsomeone\n",
      "Help on function displayTwice in module __main__:\n",
      "\n",
      "displayTwice(msg)\n",
      "    Display the message that user enter as a function argunments\n",
      "\n"
     ]
    }
   ],
   "source": [
    "def displayTwice(msg):\n",
    "    \"\"\"Display the message that user enter as a function argunments\"\"\"\n",
    "    print(msg)\n",
    "    print(msg)\n",
    "displayTwice(\"manoj\")\n",
    "displayTwice(2)\n",
    "displayTwice(2+2)\n",
    "displayTwice(\"manoj\"+\"someone\")\n",
    "help(displayTwice)"
   ]
  },
  {
   "cell_type": "code",
   "execution_count": 51,
   "id": "71bc4974",
   "metadata": {},
   "outputs": [
    {
     "name": "stdout",
     "output_type": "stream",
     "text": [
      "40\n",
      "manoj\n",
      "10\n"
     ]
    }
   ],
   "source": [
    "def findMax(a,b):\n",
    "    \"\"\"Finds the maximum of two values.\"\"\"\n",
    "    if ( a > b ):\n",
    "        max = a\n",
    "    else:\n",
    "        max = b\n",
    "    return max\n",
    "print(findMax(20,40))\n",
    "print(findMax(\"joe\",\"manoj\"))\n",
    "print(findMax(10,-20))\n",
    "\n"
   ]
  },
  {
   "cell_type": "code",
   "execution_count": 16,
   "id": "f833e986",
   "metadata": {},
   "outputs": [
    {
     "name": "stdout",
     "output_type": "stream",
     "text": [
      "16\n",
      "2\n",
      "28\n"
     ]
    }
   ],
   "source": [
    "def num_val(a,b=\"\"):\n",
    "    if b==\"\":\n",
    "        return a*a\n",
    "    else:\n",
    "        return a*b\n",
    "print(num_val(4))\n",
    "print(num_val(1,2))\n",
    "print(num_val(4,7))"
   ]
  },
  {
   "cell_type": "code",
   "execution_count": 30,
   "id": "6684f03e",
   "metadata": {},
   "outputs": [
    {
     "name": "stdout",
     "output_type": "stream",
     "text": [
      "x is 1 \n",
      "y is 2 \n",
      "z is 3\n",
      "x is 1 \n",
      "y is 2 \n",
      "z is 3\n",
      "x is 1 \n",
      "y is 2 \n",
      "z is 3\n"
     ]
    }
   ],
   "source": [
    "def someFunc(x, y, z):\n",
    "    print(\"x is\", x, \"\\ny is\", y, \"\\nz is\", z)\n",
    "someFunc(1,2,3)\n",
    "someFunc(y=2, z=3, x=1)\n",
    "someFunc(x=1,z=3,y=2)\n",
    "\n"
   ]
  },
  {
   "cell_type": "code",
   "execution_count": 37,
   "id": "6f408a81",
   "metadata": {},
   "outputs": [
    {
     "name": "stdout",
     "output_type": "stream",
     "text": [
      "2.5\n",
      "10.125\n",
      "12.5\n"
     ]
    }
   ],
   "source": [
    "def calcAve(*numbers):\n",
    "    total = 0\n",
    "    for num in numbers:\n",
    "        total += num\n",
    "    return total/len(numbers)\n",
    "print(calcAve(1,2,3,4))\n",
    "print(calcAve(1,3,46,7,7,8,9,0))\n",
    "print(calcAve(1,3,46,0))"
   ]
  },
  {
   "cell_type": "code",
   "execution_count": 1,
   "id": "c00480e2",
   "metadata": {},
   "outputs": [
    {
     "ename": "NameError",
     "evalue": "name 'math' is not defined",
     "output_type": "error",
     "traceback": [
      "\u001b[1;31m---------------------------------------------------------------------------\u001b[0m",
      "\u001b[1;31mNameError\u001b[0m                                 Traceback (most recent call last)",
      "\u001b[1;32m~\\AppData\\Local\\Temp/ipykernel_1036/1028665769.py\u001b[0m in \u001b[0;36m<module>\u001b[1;34m\u001b[0m\n\u001b[0;32m      1\u001b[0m \u001b[0mhypot\u001b[0m \u001b[1;33m=\u001b[0m \u001b[1;32mlambda\u001b[0m \u001b[0ma\u001b[0m\u001b[1;33m,\u001b[0m\u001b[0mb\u001b[0m \u001b[1;33m:\u001b[0m \u001b[0mmath\u001b[0m\u001b[1;33m.\u001b[0m\u001b[0msqrt\u001b[0m\u001b[1;33m(\u001b[0m\u001b[0ma\u001b[0m \u001b[1;33m*\u001b[0m \u001b[0ma\u001b[0m \u001b[1;33m+\u001b[0m \u001b[0mb\u001b[0m \u001b[1;33m*\u001b[0m \u001b[0mb\u001b[0m\u001b[1;33m)\u001b[0m\u001b[1;33m\u001b[0m\u001b[1;33m\u001b[0m\u001b[0m\n\u001b[1;32m----> 2\u001b[1;33m \u001b[0mtype\u001b[0m\u001b[1;33m(\u001b[0m\u001b[0mhypot\u001b[0m\u001b[1;33m(\u001b[0m\u001b[1;36m3\u001b[0m\u001b[1;33m,\u001b[0m\u001b[1;36m4\u001b[0m\u001b[1;33m)\u001b[0m\u001b[1;33m)\u001b[0m\u001b[1;33m\u001b[0m\u001b[1;33m\u001b[0m\u001b[0m\n\u001b[0m",
      "\u001b[1;32m~\\AppData\\Local\\Temp/ipykernel_1036/1028665769.py\u001b[0m in \u001b[0;36m<lambda>\u001b[1;34m(a, b)\u001b[0m\n\u001b[1;32m----> 1\u001b[1;33m \u001b[0mhypot\u001b[0m \u001b[1;33m=\u001b[0m \u001b[1;32mlambda\u001b[0m \u001b[0ma\u001b[0m\u001b[1;33m,\u001b[0m\u001b[0mb\u001b[0m \u001b[1;33m:\u001b[0m \u001b[0mmath\u001b[0m\u001b[1;33m.\u001b[0m\u001b[0msqrt\u001b[0m\u001b[1;33m(\u001b[0m\u001b[0ma\u001b[0m \u001b[1;33m*\u001b[0m \u001b[0ma\u001b[0m \u001b[1;33m+\u001b[0m \u001b[0mb\u001b[0m \u001b[1;33m*\u001b[0m \u001b[0mb\u001b[0m\u001b[1;33m)\u001b[0m\u001b[1;33m\u001b[0m\u001b[1;33m\u001b[0m\u001b[0m\n\u001b[0m\u001b[0;32m      2\u001b[0m \u001b[0mtype\u001b[0m\u001b[1;33m(\u001b[0m\u001b[0mhypot\u001b[0m\u001b[1;33m(\u001b[0m\u001b[1;36m3\u001b[0m\u001b[1;33m,\u001b[0m\u001b[1;36m4\u001b[0m\u001b[1;33m)\u001b[0m\u001b[1;33m)\u001b[0m\u001b[1;33m\u001b[0m\u001b[1;33m\u001b[0m\u001b[0m\n",
      "\u001b[1;31mNameError\u001b[0m: name 'math' is not defined"
     ]
    }
   ],
   "source": [
    "hypot = lambda a,b : math.sqrt(a * a + b * b)\n",
    "type(hypot(3,4))\n"
   ]
  },
  {
   "cell_type": "code",
   "execution_count": 45,
   "id": "79127468",
   "metadata": {},
   "outputs": [
    {
     "name": "stdout",
     "output_type": "stream",
     "text": [
      "120\n",
      "7200\n",
      "5400\n"
     ]
    }
   ],
   "source": [
    "to_seconds = lambda hours,minutes:hours*60*60+minutes*60\n",
    "print(to_seconds(0,2))\n",
    "print(to_seconds(2,0))\n",
    "print(to_seconds(1,30))"
   ]
  },
  {
   "cell_type": "code",
   "execution_count": 52,
   "id": "22d9e3aa",
   "metadata": {},
   "outputs": [
    {
     "name": "stdout",
     "output_type": "stream",
     "text": [
      "3600\n",
      "36000\n",
      "12600\n"
     ]
    }
   ],
   "source": [
    "to_seconds = lambda hours,minutes=0:hours*60*60+minutes*60\n",
    "print(to_seconds(1))\n",
    "print(to_seconds(10))\n",
    "print(to_seconds(3,30))"
   ]
  },
  {
   "cell_type": "code",
   "execution_count": 54,
   "id": "712b5264",
   "metadata": {},
   "outputs": [
    {
     "name": "stdout",
     "output_type": "stream",
     "text": [
      "You are unlucky man  K ma hancy haina rw Manoj #\n"
     ]
    }
   ],
   "source": [
    "def show_msg(title,body,prefix, sep=\"#\"):\n",
    "    print(body,prefix,title,sep)\n",
    "show_msg(\"Manoj\",\"You are unlucky man \",prefix=\"K ma hancy haina rw\")"
   ]
  }
 ],
 "metadata": {
  "kernelspec": {
   "display_name": "Python 3 (ipykernel)",
   "language": "python",
   "name": "python3"
  },
  "language_info": {
   "codemirror_mode": {
    "name": "ipython",
    "version": 3
   },
   "file_extension": ".py",
   "mimetype": "text/x-python",
   "name": "python",
   "nbconvert_exporter": "python",
   "pygments_lexer": "ipython3",
   "version": "3.9.7"
  }
 },
 "nbformat": 4,
 "nbformat_minor": 5
}
